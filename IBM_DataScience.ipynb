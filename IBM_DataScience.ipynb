{
 "cells": [
  {
   "cell_type": "markdown",
   "id": "3693cf64-28ad-4e44-b14a-73c035ffc9f6",
   "metadata": {},
   "source": [
    "# IBM Tools for Data Science - Final Exam"
   ]
  },
  {
   "cell_type": "markdown",
   "id": "6832a00f-aeff-4c72-8c23-8281a2724ffa",
   "metadata": {},
   "source": [
    "## Introduction\n",
    "\n",
    "You will be provided with an empty Jupyterlite notebook which you will launch in the course, to complete this assignment. You will need to include a combination of markdown and code cells. You will likely need to use the Markdown cheat sheet to help you determine the appropriate syntax for your markdown.  "
   ]
  },
  {
   "cell_type": "markdown",
   "id": "279d2e4c-600f-4bc1-86b4-f5d7cd9428b2",
   "metadata": {},
   "source": [
    "## Data Science Languages\n",
    "\n",
    "1. Python\n",
    "2. R\n",
    "3. SQL\n",
    "4. Julia\n",
    "5. Java\n",
    "6. Scala\n",
    "7. MATLAB\n",
    "8. Go\n",
    "9. C/C++"
   ]
  },
  {
   "cell_type": "markdown",
   "id": "4887fffa-40cb-446b-b118-097fbe1c783a",
   "metadata": {},
   "source": [
    "## Data Science Libraries\n",
    "1. NumPy\n",
    "2. Pandas\n",
    "3. MatplotLib\n",
    "4. Seaborn\n",
    "5. Scikit-learn\n",
    "6. Keras\n",
    "7. TensorFlow\n",
    "8. PyTorch\n",
    "9. Apache Spark\n",
    "10. Scala: Vegas\n",
    "11. Scala: BigDL\n",
    "12. R: ggplot\n",
    "13. R: dplyr\n",
    "14. R: stringr\n",
    "15. R: caret"
   ]
  },
  {
   "cell_type": "markdown",
   "id": "b21713e1-39ad-4703-969b-c12f8db8a8de",
   "metadata": {},
   "source": [
    "## Data Science Tools\n",
    "| ID  | Tools                         | Tag          | Description                                     |\n",
    "| --- | ----------------------------- | ------------ | ----------------------------------------------- |\n",
    "| 1   | MySQL                         | Database     | Relational database management system (RDBMS).   |\n",
    "| 2   | PostgreSQL                    | Database     | Object-relational database system.               |\n",
    "| 3   | MongoDB                       | Database     | NoSQL document-oriented database.               |\n",
    "| 4   | Apache CouchDB                | Database     | Distributed NoSQL database.                      |\n",
    "| 5   | Apache Cassandra              | Database     | Highly scalable NoSQL database.                  |\n",
    "| 6   | Hadoop                        | Big Data     | Framework for distributed storage and processing.|\n",
    "| 7   | Spark                         | Big Data     | Fast and general-purpose cluster computing system.|\n",
    "| 8   | AirFlow                       | Big Data     | Platform to programmatically author, schedule, and monitor workflows.|\n",
    "| 9   | KubeFlow                      | Big Data     | Kubernetes-native platform for deploying and managing ML workflows.|\n",
    "| 10  | Nifi                          | Big Data     | Data integration and data flow automation tool. |\n",
    "| 11  | NodeRED                       | IoT          | Flow-based development tool for visual programming.|\n",
    "| 12  | Prometheus                    | Monitoring   | Open-source systems monitoring and alerting toolkit.|\n",
    "| 13  | IBM Explainability 360 toolkit | AI           | Toolkit for evaluating and explaining machine learning models.|\n",
    "| 14  | Jupyter (Notebook and labs)   | Analytics    | Open-source web application for creating and sharing documents with live code, equations, visualizations.|\n",
    "| 15  | RStudio                       | Analytics    | Integrated development environment (IDE) for R.   |\n",
    "| 16  | IBM Watson                    | AI           | IBM's AI platform providing various services and tools.|\n",
    "| 17  | Spyder                        | Analytics    | IDE for Python, specifically for scientific computing.|\n",
    "| 18  | Apache Zeppelin               | Analytics    | Multi-purpose notebook for data exploration and visualization.|\n"
   ]
  },
  {
   "cell_type": "markdown",
   "id": "71b3ebbc-f8c9-47dd-9eeb-dd9d46a82883",
   "metadata": {},
   "source": [
    "## Python Code"
   ]
  },
  {
   "cell_type": "code",
   "execution_count": 34,
   "id": "df72373c-7151-444e-a735-5820fd194422",
   "metadata": {},
   "outputs": [
    {
     "name": "stdout",
     "output_type": "stream",
     "text": [
      "1 2 3\n"
     ]
    }
   ],
   "source": [
    "# some examples of arthmetic expr in python\n",
    "# First, define some numbers\n",
    "x = 1\n",
    "y = 2\n",
    "z = 3\n",
    "print(x, y, z)"
   ]
  },
  {
   "cell_type": "code",
   "execution_count": 35,
   "id": "5ec753ab-ca81-4618-a684-3c1fe7c1694c",
   "metadata": {},
   "outputs": [
    {
     "name": "stdout",
     "output_type": "stream",
     "text": [
      "4 5 6\n"
     ]
    }
   ],
   "source": [
    "# Then we can do some basic math on them\n",
    "a = x + z\n",
    "b = y + z\n",
    "c = y * z\n",
    "print(a, b, c)"
   ]
  },
  {
   "cell_type": "code",
   "execution_count": 36,
   "id": "c0fd67d0-1574-4b97-9b4b-ff69322415a3",
   "metadata": {},
   "outputs": [
    {
     "name": "stdout",
     "output_type": "stream",
     "text": [
      "40 126 245\n"
     ]
    }
   ],
   "source": [
    "# now we can make even more complex examples\n",
    "f = 3 * a + 2 * b + 3 * c\n",
    "g = (a * b * c) + (x + y + z)\n",
    "h = a ** x + b ** y + c ** z\n",
    "print(f, g, h)"
   ]
  },
  {
   "cell_type": "code",
   "execution_count": 37,
   "id": "708e0cfb-c80e-4e64-af64-010d35ee4495",
   "metadata": {},
   "outputs": [],
   "source": [
    "# given a number of minutes, convert it to hours and print the string\n",
    "def minutes_string(minutes):\n",
    "    print(f'{minutes}m is: ', end='')\n",
    "    hours = minutes // 60\n",
    "    min_remain = minutes % 60\n",
    "    ms = 'minute' if min_remain == 1 else 'minutes'\n",
    "    if hours == 0:\n",
    "        print(f'{min_remain} {ms}')\n",
    "    else:\n",
    "        hs = 'hour' if hours == 1 else 'hours'\n",
    "        \n",
    "        if min_remain > 0:\n",
    "            print(f'{hours} {hs} and {min_remain} {ms}')\n",
    "        else:\n",
    "            print(f'{hours} {hs}')"
   ]
  },
  {
   "cell_type": "code",
   "execution_count": 38,
   "id": "a564e948-270e-4f14-bc66-423b99812444",
   "metadata": {},
   "outputs": [
    {
     "name": "stdout",
     "output_type": "stream",
     "text": [
      "0m is: 0 minutes\n",
      "1m is: 1 minute\n",
      "15m is: 15 minutes\n",
      "60m is: 1 hour\n",
      "61m is: 1 hour and 1 minute\n",
      "75m is: 1 hour and 15 minutes\n",
      "120m is: 2 hours\n",
      "121m is: 2 hours and 1 minute\n",
      "135m is: 2 hours and 15 minutes\n"
     ]
    }
   ],
   "source": [
    "# Several tests\n",
    "minutes_string(0)\n",
    "minutes_string(1)\n",
    "minutes_string(15)\n",
    "minutes_string(60)\n",
    "minutes_string(61)\n",
    "minutes_string(75)\n",
    "minutes_string(120)\n",
    "minutes_string(121)\n",
    "minutes_string(135)\n"
   ]
  },
  {
   "cell_type": "markdown",
   "id": "77ba0724-03a3-4905-aa29-34698dae7bbf",
   "metadata": {},
   "source": [
    "## Exam Objectives\n",
    "* [x] Exercise 2 - Create a markdown cell with the title of the notebook. (1 pt)\n",
    "* [x] Exercise 3 - Create a markdown cell for an introduction. (1 pt)\n",
    "* [x] Exercise 4 - Create a markdown cell to list data science languages. (3 pts)\n",
    "* [x] Exercise 5 - Create a markdown cell to list data science libraries. (3 pts)\n",
    "* [x] Exercise 6 - Create a markdown cell with a table of Data Science tools. (3 pts)\n",
    "* [x] Exercise 7 - Create a markdown cell introducing arithmetic expression examples. (1 pt)\n",
    "* [x] Exercise 8 - Create a code cell to multiply and add numbers. (2 pts)\n",
    "* [x] Exercise 9 - Create a code cell to convert minutes to hours. (2 pts)\n",
    "* [x] Exercise 10 -Insert a markdown cell to list Objectives. (3 pts)\n",
    "* [x] Exercise 11 - Create a markdown cell to indicate the Author’s name. (2 pts)\n",
    "* [x] Exercise 12 - Share your notebook through GitHub (3 pts)\n",
    "* [x] Exercise 13 - Take a screenshot of the first page of the notebook. (1 pt)"
   ]
  },
  {
   "cell_type": "markdown",
   "id": "0aba4ee3-eef2-4128-a37a-4d860f4bf53a",
   "metadata": {},
   "source": [
    "# Author\n",
    "## Enzo Ferber"
   ]
  }
 ],
 "metadata": {
  "kernelspec": {
   "display_name": "Python 3 (ipykernel)",
   "language": "python",
   "name": "python3"
  },
  "language_info": {
   "codemirror_mode": {
    "name": "ipython",
    "version": 3
   },
   "file_extension": ".py",
   "mimetype": "text/x-python",
   "name": "python",
   "nbconvert_exporter": "python",
   "pygments_lexer": "ipython3",
   "version": "3.11.4"
  }
 },
 "nbformat": 4,
 "nbformat_minor": 5
}
